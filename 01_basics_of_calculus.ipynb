{
 "cells": [
  {
   "cell_type": "code",
   "execution_count": 1,
   "id": "9266111e-40dd-4860-870b-6703e4687e6d",
   "metadata": {},
   "outputs": [
    {
     "name": "stdout",
     "output_type": "stream",
     "text": [
      "Derivative of f(x) = 2*x + 3\n"
     ]
    }
   ],
   "source": [
    "import sympy as sp #sympy is a Python library used for symbolic mathematics. It allows you to define variables, functions, and perform symbolic differentiation, integration, etc.\n",
    "                   #We import sympy as sp for convenience.\n",
    "\n",
    "# Define the variable\n",
    "x = sp.symbols('x')\n",
    "\n",
    "# Define a function f(x) = x^2 + 3x + 2     Hint : The derivative of a constant is 0:\n",
    "\n",
    "\n",
    "f = x**2 + 3*x + 2\n",
    "\n",
    "# Compute the derivative of f with respect to x\n",
    "f_prime = sp.diff(f, x)\n",
    "\n",
    "# Output the derivative\n",
    "print(f\"Derivative of f(x) = {f_prime}\")\n"
   ]
  },
  {
   "cell_type": "code",
   "execution_count": null,
   "id": "4d13eec4-78d4-4208-ba47-6fbc42d63091",
   "metadata": {},
   "outputs": [],
   "source": []
  }
 ],
 "metadata": {
  "kernelspec": {
   "display_name": "Python 3 (ipykernel)",
   "language": "python",
   "name": "python3"
  },
  "language_info": {
   "codemirror_mode": {
    "name": "ipython",
    "version": 3
   },
   "file_extension": ".py",
   "mimetype": "text/x-python",
   "name": "python",
   "nbconvert_exporter": "python",
   "pygments_lexer": "ipython3",
   "version": "3.11.7"
  }
 },
 "nbformat": 4,
 "nbformat_minor": 5
}
